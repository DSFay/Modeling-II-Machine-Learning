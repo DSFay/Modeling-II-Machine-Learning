{
  "nbformat": 4,
  "nbformat_minor": 0,
  "metadata": {
    "colab": {
      "provenance": [],
      "authorship_tag": "ABX9TyPkwnk4d1xYG/36Eik20bId",
      "include_colab_link": true
    },
    "kernelspec": {
      "name": "python3",
      "display_name": "Python 3"
    },
    "language_info": {
      "name": "python"
    }
  },
  "cells": [
    {
      "cell_type": "markdown",
      "metadata": {
        "id": "view-in-github",
        "colab_type": "text"
      },
      "source": [
        "<a href=\"https://colab.research.google.com/github/DSFay/Modeling-II-Machine-Learning/blob/main/Faelynn_Carroll_%26_Lan_Ma's_Final_Project_write_up_ML22.ipynb\" target=\"_parent\"><img src=\"https://colab.research.google.com/assets/colab-badge.svg\" alt=\"Open In Colab\"/></a>"
      ]
    },
    {
      "cell_type": "markdown",
      "source": [],
      "metadata": {
        "id": "3yAXf913APS5"
      }
    },
    {
      "cell_type": "markdown",
      "source": [
        "###### Please note that both group members, Lan Ma and Faelynn Carroll, have contributed significantly, and approximately equally, to the submitted work.\n",
        "\n",
        "### Can Climate Shocks Predict Conflict: The Agriculture Channel\n",
        "\n",
        "\n",
        "**Introduction**\n",
        "\n",
        "We set out to investigate the question: Can climate and agricultural variables predict conflict? Specifically, we investigate whether the risk of a conflict outbreak is higher in areas experiencing climate shocks.\n",
        "\n",
        "We follow the literature (particularly Hsiang et al., 2011; McGuirk and Burke, 2020; and McGuirk and Nunn, 2021) the relationship between climate and conflict to see if climate can act as a predictor for conflict.\n",
        "\n",
        "Climate is defined here by the El Nino Southern Oscillation climate system, where a sea surface temperature of greater than 0.5 degrees C from normal, indicates presence of an El Nino (hotter), or less than -0.5 degrees from normal, a La Nina year (colder). Climate data is sourced from the NINO 3.4 region's detrended sea surface temperatures, which is provided by the National Oceanic and Atmosphere Association(NOAA).\n",
        "\n",
        "Presence of an El Nino or a La Nina indicates a climate shock in countries impacted by the ENSO cycle: the countries impacted by ENSO are called 'teleconnected'. Countries not impacted by ENSO are called 'weakly affected'.\n",
        "\n",
        "We separate the data set into a teleconnected group and compare results from the teleconnected group (n=42) with results from the full set of countries (n=49). We do not use the weakly affected group, as there are only 7 countries that are considered weakly affected in this data set.\n",
        "\n",
        "Conflict is defined here as a new conflict event, involving 25 or more fatalities, after a peaceful period of at least one year (for that conflict in that location).\n",
        "\n",
        "We aggregate all variables at the yearly level. Each row in the data set represents one country in one year.\n",
        "\n",
        "Out of the 73 total years in the data, we find that there are 33 total years where climate shock (and El Nino or a La Nina) is present, with 15 El Nino years and 18 La Nina years. Since there is a nearly equal balance of climate-neutral years and years where a climate shock is present, this is a good basis for testing whether ENSO can predict conflict onset or not.\n",
        "\n",
        "In addition to ENSO and the conflict indicator variable, we include agricultural variables to signal farming output for crops and animal husbandry, and emissions variables to indicate economic activity. Units for agricultural varaibles and emissions are in kilotonnes.\n",
        "\n",
        "Our target variable for prediction is confict onset, which has a highly significant class imbalance: only 8.45% of years in the data set have conflict present (onset1 = 1).\n",
        "\n",
        "\n",
        "**Analysis**\n",
        "\n",
        "We begin our data exploration by visualizing pairplots of teleconnected countries to see the relationships between climate shocks, conflict, emissions, agricultural production, and anmial husbandry. There are many sub-groups apparent within the pair plots for the two farming categories, which we interpret as different scales of farming with differing efficiency levels in yields and production. In charts including Anomaly, we find bunching aroud zero (the midpoint), with significant gaps in the data at Anomalies greater than 0.5 degrees C or less than -1 degrees C.\n",
        "\n",
        "We also visualize our crop production variables with year to see trends time and with anomaly. This final set of pairplots confirms that there are multiple separate linear trends within each output varaible and that animal stocks and agricultural yields are generally trending upwards over time, but that there is no such linear trend for climate socks (anomaly).\n",
        "\n",
        "We fit three classification models to our data in different forms: a Random Forest Classifier (RFC), a Gradient Boosting Classifier (GBC), and a Logistic Regression Classifier (LRC). In all models we set random_state=5, and for test_train_split we set aside 30% of the data for testing.\n",
        "\n",
        "We begin by fitting both the entire set of countries and the teleconnected set to the RFC and GBC models, since they do not need to be scaled. Right off the bat, the RFC model fit to the entire dataset gives us some of the best performance scores of the entire analysis: f1 = 0.44 and recall = 0.35. We rely on recall and f1 to determine model performance throughout the analysis, since we are most interested in predicting presence of conflict (target variable, onset1=1) Later on, when we balance our target class, recall will increase significantly, but most models do so at the cost of other performance metrics.\n",
        "\n",
        "Next, we scale the data and run a Logistic Regression Classifier (LRC). The LRC slightly under performs our initial RFC, and nearly ties performance for the GBC models with recall=0.26 and f1=0.39.\n",
        "\n",
        "Finally, we try balancing out the target variable using the SMOTE function from imblearn. We create two balanced-class data sets: one for all countries and one with just the teleconnected countries. Then, we rerun our RFC, GBC, and LRC.\n",
        "\n",
        "Across all models but one, the teleconnected set slighly under performs the set of all countries. Our best performing model is the exception: the Random Forest Classifier using synthetically balanced data on the teleconnected set of countries gets our best performance with f1=0.44 and recall=0.48. We recognize that predictability for this model is still slightly worse than random chance.\n",
        "\n",
        "We investigate feature importance of x-variables in our models throughout the analysis, finding that Anomaly represents a medium to small share of the varaition in most models. The variables representing most of the varaition across models are N20 (both direct and indirect), Area harvested, Yield, and Production. According to the literature, Anomaly should act as a proxy varaible for agricultural output, so those varaibles may be already representing much of the varaition in Anomaly. We may do well to separate out ENSO years from non-ENSO years in further analyses to compare agricultural outputs in both sets.\n",
        "\n",
        "\n",
        "**Conclusion**\n",
        "\n",
        "Conflict is a notoriously difficult varaible to predict, since it is highly endogenous with many other variables and because conflict presence and conflict onset (thankfully) have significant class imbalances.\n",
        "\n",
        "Brandt et al. (2021) find that the best predictor of conflict presence is previous conflict. Though Brandt et al.'s neural network model has high performance in predicting continuation of ongoing conflicts, they are not able to predict conflict onset, which is the varaible we are interested in. Indeed, conflict onset is the focus of most conflict research, which is why the conflict dataset used here from the Uppsala Conflict Data Project is centered around conflict onset.\n",
        "\n",
        "We were not able to get a good model that can predict conflict onset using the ENSO, agricultural, and emissions data in this project. However, this does not necessarily mean that it is not possible to do a good job of predicting conflict using agricultural and climate data. Rather, models many need to rely on many more features with more variation across the variables to gain predictive power.\n",
        "\n",
        "Given more time and data, we would like to include features like GDP per capita, health indicators, indicators for food insecurity, and indicators for government and or institutional health. Another interesting angle that is employed often in ML political science research is scraping local news sites and Twitter for content and then running NLP sentiment analysis to flag for raised tensions, civil conflicts, and other indicators that conflict onset may be impending.\n",
        "\n",
        "\n",
        "**References**\n",
        "\n",
        "Brandt, Patrick T., Vito D’Orazio, Latifur Khan, Yi-Fan Li, Javier Osorio and Marcus Sianan (2022). Conflict Forecasting with Event Data and Spatio-Temporal Graph Convolutional Networks. International Interactions. https://doi.org/10.1080/03050629.2022.2036987\n",
        "\n",
        "Hsiang, Solomon M., Meng, Kyle C., and Cane, Mark A. (2011). Civil conflicts are associated with the global climate. Nature, 476(7361), 438–441. https://doi.org/10.1038/nature10311\n",
        "\n",
        "McGuirk, E., & Burke, M. (2020). The Economic Origins of Conflict in Africa. Journal of Political Economy, 128(10), 3940–3997. https://doi.org/10.1086/709993\n",
        "\n",
        "McGuirk, E., & Nunn, N. (2021). Transhumant Pastoralism, Climate Change, and Conflict in Africa (NBER Working Paper No. w28243; p. 28243). National Bureau of Economic Research. https://doi.org/10.3386/w28243\n",
        "\n",
        "Data sources\n",
        "National Oceanic and Atmospheric Administration. (2020). Equatorial Pacific Sea Surface Temperatures. https://www.ncdc.noaa.gov/teleconnections/enso/indicators/sst/.\n",
        "\n",
        "Gleditsch, Nils Petter; Peter Wallensteen, Mikael Eriksson, Margareta Sollenberg & Håvard Strand (2002) Armed Conflict 1946–2001: A New Dataset. Journal of Peace Research 39(5): 615–637.\n",
        "\n",
        "Pettersson, Therese; Stina Högbladh & Magnus Öberg (2019). Organized violence, 1989-2018 and peace agreements. Journal of Peace Research 56(4): 589-603.\n",
        "\n",
        "Teleconnection dummies sourced from Anttila-Hughes et al. (2021) - full citation below\n",
        "Anttila-Hughes, Jesse K., Jina, Amir S., and McCord, Gordon C. (2021). ENSO impacts child undernutrition in the global tropics. Nature Communications, 12(1), 5785. https://doi.org/10.1038/s41467-021-26048-7!"
      ],
      "metadata": {
        "id": "SbeO2EjJAS-W"
      }
    }
  ]
}
